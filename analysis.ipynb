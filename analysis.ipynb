{
 "cells": [
  {
   "cell_type": "code",
   "execution_count": 1,
   "id": "b4cc1e27",
   "metadata": {},
   "outputs": [],
   "source": [
    "import pandas as pd\n",
    "import numpy as np\n",
    "import os"
   ]
  },
  {
   "cell_type": "code",
   "execution_count": 5,
   "id": "fc591553",
   "metadata": {},
   "outputs": [
    {
     "name": "stdout",
     "output_type": "stream",
     "text": [
      "Loaded: data/HGVS_2014_benchmark.tsv with shape (2982, 2)\n",
      "Loaded: data/vep/HGVS_2014_sift_scores.tsv with shape (400, 2)\n",
      "Loaded: data/vep/HGVS_2014_polyphen_scores.tsv with shape (400, 2)\n",
      "Loaded: data/vep/HGVS_2014_VEP_baseline.tsv with shape (400, 3)\n"
     ]
    }
   ],
   "source": [
    "base_dir = \"data/\"\n",
    "dfs = {}\n",
    "\n",
    "for root, _, files in os.walk(base_dir):\n",
    "    for file in files:\n",
    "        if file.endswith(\".tsv\"):\n",
    "            file_path = os.path.join(root, file)\n",
    "            try:\n",
    "                df = pd.read_csv(file_path, sep=\"\\t\")\n",
    "                dfs[file] = df\n",
    "                print(f\"Loaded: {file_path} with shape {df.shape}\")\n",
    "            except Exception as e:\n",
    "                print(f\"Could not load {file_path}: {e}\")"
   ]
  },
  {
   "cell_type": "code",
   "execution_count": 8,
   "id": "5f78da0c",
   "metadata": {},
   "outputs": [
    {
     "data": {
      "text/plain": [
       "Label\n",
       "Pathogenic    1491\n",
       "Benign        1491\n",
       "Name: count, dtype: int64"
      ]
     },
     "execution_count": 8,
     "metadata": {},
     "output_type": "execute_result"
    }
   ],
   "source": [
    "dfs[\"HGVS_2014_benchmark.tsv\"][\"Label\"].value_counts()"
   ]
  },
  {
   "cell_type": "code",
   "execution_count": 6,
   "id": "77987e06",
   "metadata": {},
   "outputs": [
    {
     "name": "stdout",
     "output_type": "stream",
     "text": [
      "(142, 25) (260, 25)\n"
     ]
    }
   ],
   "source": [
    "import pandas as pd\n",
    "\n",
    "# Read tab-separated text file\n",
    "df = pd.read_csv(\"clinvar_result.txt\", sep=\"\\t\")\n",
    "missence_data = df[df.apply(lambda row: row.astype(str).str.contains(\"missense\", case=False).any(), axis=1)]\n",
    "print(missence_data.shape, df.shape)"
   ]
  },
  {
   "cell_type": "code",
   "execution_count": null,
   "id": "0dafee12",
   "metadata": {},
   "outputs": [],
   "source": []
  }
 ],
 "metadata": {
  "kernelspec": {
   "display_name": "cls-fundamentals-bioinformatics",
   "language": "python",
   "name": "python3"
  },
  "language_info": {
   "codemirror_mode": {
    "name": "ipython",
    "version": 3
   },
   "file_extension": ".py",
   "mimetype": "text/x-python",
   "name": "python",
   "nbconvert_exporter": "python",
   "pygments_lexer": "ipython3",
   "version": "3.13.0"
  }
 },
 "nbformat": 4,
 "nbformat_minor": 5
}
